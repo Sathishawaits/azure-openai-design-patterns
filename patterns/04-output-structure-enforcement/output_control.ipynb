{
 "cells": [
  {
   "cell_type": "code",
   "execution_count": 2,
   "metadata": {},
   "outputs": [],
   "source": [
    "from dotenv import load_dotenv\n",
    "import openai\n",
    "import os\n",
    "from pathlib import Path  # Python 3.6+ only\n",
    "\n",
    "env_path = Path('../') / 'secrets.env'\n",
    "load_dotenv(dotenv_path=env_path)\n",
    "key = os.getenv(\"AZURE_OPENAI_API_KEY\")\n",
    "openai_endpoint = os.getenv(\"AZURE_OPENAI_ENDPOINT\")\n",
    "openai.api_type = \"azure\"\n",
    "openai.api_version = \"2023-05-15\" \n",
    "openai.api_key= key\n",
    "openai.api_base=openai_endpoint\n",
    "engine = \"gpt-35-turbo\""
   ]
  },
  {
   "cell_type": "code",
   "execution_count": 3,
   "metadata": {},
   "outputs": [
    {
     "data": {
      "text/plain": [
       "'https://azopenaidemo.openai.azure.com/'"
      ]
     },
     "execution_count": 3,
     "metadata": {},
     "output_type": "execute_result"
    }
   ],
   "source": [
    "openai_endpoint"
   ]
  },
  {
   "cell_type": "code",
   "execution_count": 7,
   "metadata": {},
   "outputs": [
    {
     "data": {
      "text/plain": [
       "'6e78d72911ba4064803b8b14e1f272b8'"
      ]
     },
     "execution_count": 7,
     "metadata": {},
     "output_type": "execute_result"
    }
   ],
   "source": [
    "key"
   ]
  },
  {
   "cell_type": "code",
   "execution_count": 12,
   "metadata": {},
   "outputs": [],
   "source": [
    "messages = [{\"role\":\"system\",\"content\":\"You are an AI assistant that helps people find information.\"},\n",
    "            {\"role\":\"user\",\"content\":\"extract following content into json format \\n<<content>>\\n\\nHello and welcome to our customer support. My name is [Your Name] and I am here to assist you. How may I help you today?\\n\\nCustomer: Hi, I am having trouble with my account.\\n\\nYou: I am sorry to hear that. Can you please provide me with your account information so that I can assist you better?\\n\\nCustomer: Sure, my account username is [Username].\\n\\nYou: Thank you for providing that information. Can you please tell me what specific problem you are facing with your account?\\n\\nCustomer: I am unable to access my account. It keeps showing an error message.\\n\\nYou: I apologize for the inconvenience. Let me check your account and see what the problem is. Can you please provide me with your registered email address?\\n\\nCustomer: My email address is [Email Address].\\n\\nYou: Thank you. Let me check your account. [Check account]. I see that there is an issue with your password. Can you please try resetting your password by clicking on the \\\"forgot password\\\" link on the login page and following the steps?\\n\\nCustomer: Okay, I will try that.\\n\\nYou: Great. Once you have reset your password, please try logging in again and let me know if the issue persists.\\n\\nCustomer: Okay, I will do that.\\n\\nYou: Is there anything else I can assist you with?\\n\\nCustomer: No, that's all. Thank you for your help.\\n\\nYou: You're welcome. If you have any further questions or concerns, please feel free to contact us again. Have a great day!\\n\\n\\nThe extracted content is \\n{\\\"summary\\\": \\\"summary place holder\\\", \\\"problem\\\":[\\\"problem place holder\\\",\\\"problem place holder\\\"], \\\"next_action\\\":[\\\"next action place holder\\\",\\\"next action place holder\\\"]}\"},\n",
    "            ]\n"
   ]
  },
  {
   "cell_type": "code",
   "execution_count": 14,
   "metadata": {},
   "outputs": [
    {
     "data": {
      "text/plain": [
       "'{\"summary\": \"The customer is experiencing trouble accessing their account and is receiving an error message. It is discovered that the issue is with their password and they are instructed to reset it. The customer confirms they will do so and no further assistance is needed.\", \\n\"problem\":[\"Customer is unable to access their account and is seeing an error message.\"], \\n\"next_action\":[\"Ask for account information, including username and email.\", \"Check the account and discover that the issue is with the password.\", \"Instruct the customer to reset their password and log in again.\", \"Confirm with the customer that no further assistance is needed.\"]}'"
      ]
     },
     "execution_count": 14,
     "metadata": {},
     "output_type": "execute_result"
    }
   ],
   "source": [
    "response = openai.ChatCompletion.create(\n",
    "engine=engine, \n",
    "messages = messages)\n",
    "llm_output = response['choices'][0]['message']['content']\n",
    "llm_output"
   ]
  },
  {
   "cell_type": "code",
   "execution_count": 15,
   "metadata": {},
   "outputs": [
    {
     "data": {
      "text/plain": [
       "{'summary': 'The customer is experiencing trouble accessing their account and is receiving an error message. It is discovered that the issue is with their password and they are instructed to reset it. The customer confirms they will do so and no further assistance is needed.',\n",
       " 'problem': ['Customer is unable to access their account and is seeing an error message.'],\n",
       " 'next_action': ['Ask for account information, including username and email.',\n",
       "  'Check the account and discover that the issue is with the password.',\n",
       "  'Instruct the customer to reset their password and log in again.',\n",
       "  'Confirm with the customer that no further assistance is needed.']}"
      ]
     },
     "execution_count": 15,
     "metadata": {},
     "output_type": "execute_result"
    }
   ],
   "source": [
    "import json\n",
    "json.loads(llm_output)"
   ]
  },
  {
   "cell_type": "code",
   "execution_count": null,
   "metadata": {},
   "outputs": [],
   "source": []
  }
 ],
 "metadata": {
  "kernelspec": {
   "display_name": "forecasting",
   "language": "python",
   "name": "python3"
  },
  "language_info": {
   "codemirror_mode": {
    "name": "ipython",
    "version": 3
   },
   "file_extension": ".py",
   "mimetype": "text/x-python",
   "name": "python",
   "nbconvert_exporter": "python",
   "pygments_lexer": "ipython3",
   "version": "3.9.12"
  },
  "orig_nbformat": 4
 },
 "nbformat": 4,
 "nbformat_minor": 2
}
