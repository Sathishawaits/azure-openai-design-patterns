{
 "cells": [
  {
   "cell_type": "code",
   "execution_count": 1,
   "metadata": {},
   "outputs": [],
   "source": [
    "from dotenv import load_dotenv\n",
    "import openai\n",
    "import os\n",
    "from pathlib import Path  # Python 3.6+ only\n",
    "\n",
    "env_path = Path('../') / 'secrets.env'\n",
    "load_dotenv(dotenv_path=env_path)\n",
    "key = os.getenv(\"AZURE_OPENAI_API_KEY\")\n",
    "openai_endpoint = os.getenv(\"AZURE_OPENAI_ENDPOINT\")\n",
    "openai.api_type = \"azure\"\n",
    "openai.api_version = \"2023-05-15\" \n",
    "openai.api_key= key\n",
    "openai.api_base=openai_endpoint\n",
    "engine = \"gpt-35-turbo\""
   ]
  },
  {
   "cell_type": "code",
   "execution_count": 12,
   "metadata": {},
   "outputs": [],
   "source": [
    "messages = [{\"role\":\"system\",\"content\":\"You are an AI assistant that helps people find information.\"},\n",
    "            {\"role\":\"user\",\"content\":\"extract following content into json format \\n<<content>>\\n\\nHello and welcome to our customer support. My name is [Your Name] and I am here to assist you. How may I help you today?\\n\\nCustomer: Hi, I am having trouble with my account.\\n\\nYou: I am sorry to hear that. Can you please provide me with your account information so that I can assist you better?\\n\\nCustomer: Sure, my account username is [Username].\\n\\nYou: Thank you for providing that information. Can you please tell me what specific problem you are facing with your account?\\n\\nCustomer: I am unable to access my account. It keeps showing an error message.\\n\\nYou: I apologize for the inconvenience. Let me check your account and see what the problem is. Can you please provide me with your registered email address?\\n\\nCustomer: My email address is [Email Address].\\n\\nYou: Thank you. Let me check your account. [Check account]. I see that there is an issue with your password. Can you please try resetting your password by clicking on the \\\"forgot password\\\" link on the login page and following the steps?\\n\\nCustomer: Okay, I will try that.\\n\\nYou: Great. Once you have reset your password, please try logging in again and let me know if the issue persists.\\n\\nCustomer: Okay, I will do that.\\n\\nYou: Is there anything else I can assist you with?\\n\\nCustomer: No, that's all. Thank you for your help.\\n\\nYou: You're welcome. If you have any further questions or concerns, please feel free to contact us again. Have a great day!\\n\\n\\nThe extracted content is \\n{\\\"summary\\\": \\\"summary place holder\\\", \\\"problem\\\":[\\\"problem place holder\\\",\\\"problem place holder\\\"], \\\"next_action\\\":[\\\"next action place holder\\\",\\\"next action place holder\\\"]}\"},\n",
    "            ]\n"
   ]
  },
  {
   "cell_type": "code",
   "execution_count": 2,
   "metadata": {},
   "outputs": [],
   "source": [
    "messages = [\n",
    "    {\"role\": \"system\", \"content\": \"\"\"You are an assistant designed to extract entities from text. Users will paste in a string of text and you will respond with entities you've extracted from the text as a JSON object. Here's an example of your output format:\n",
    "{\n",
    "   \"name\": \"\",\n",
    "   \"company\": \"\",\n",
    "   \"phone_number\": \"\"\n",
    "}\"\"\"},\n",
    "{\"role\": \"user\", \"content\": \"Hello. My name is Robert Smith. I'm calling from Contoso Insurance, Delaware. My colleague mentioned that you are interested in learning about our comprehensive benefits policy. Could you give me a call back at (555) 346-9322 when you get a chance so we can go over the benefits?\"}\n",
    "]"
   ]
  },
  {
   "cell_type": "code",
   "execution_count": 3,
   "metadata": {},
   "outputs": [
    {
     "data": {
      "text/plain": [
       "'Based on the text you provided, here are the entities that I have extracted:\\n\\n {\\n   \"name\": \"Robert Smith\",\\n   \"company\": \"Contoso Insurance\",\\n   \"phone_number\": \"(555) 346-9322\"\\n}'"
      ]
     },
     "execution_count": 3,
     "metadata": {},
     "output_type": "execute_result"
    }
   ],
   "source": [
    "response = openai.ChatCompletion.create(\n",
    "engine=engine, \n",
    "messages = messages)\n",
    "llm_output = response['choices'][0]['message']['content']\n",
    "llm_output"
   ]
  },
  {
   "cell_type": "code",
   "execution_count": 15,
   "metadata": {},
   "outputs": [
    {
     "data": {
      "text/plain": [
       "{'summary': 'The customer is experiencing trouble accessing their account and is receiving an error message. It is discovered that the issue is with their password and they are instructed to reset it. The customer confirms they will do so and no further assistance is needed.',\n",
       " 'problem': ['Customer is unable to access their account and is seeing an error message.'],\n",
       " 'next_action': ['Ask for account information, including username and email.',\n",
       "  'Check the account and discover that the issue is with the password.',\n",
       "  'Instruct the customer to reset their password and log in again.',\n",
       "  'Confirm with the customer that no further assistance is needed.']}"
      ]
     },
     "execution_count": 15,
     "metadata": {},
     "output_type": "execute_result"
    }
   ],
   "source": [
    "import json\n",
    "json.loads(llm_output)"
   ]
  },
  {
   "cell_type": "code",
   "execution_count": 8,
   "metadata": {},
   "outputs": [],
   "source": [
    "from azure.storage.blob import BlobServiceClient\n",
    "con_str =\"DefaultEndpointsProtocol=https;AccountName=adlsstore0001;AccountKey=fxjZJXVwuMUS6mTu2JhfmcnLZ68RY1anPYV1o2jWJce5MS4RttZIYzrXaKjJ39Nes7LaxeMiIbgE+ASt8QTLqQ==;EndpointSuffix=core.windows.net\"\n",
    "blob_service_client = BlobServiceClient.from_connection_string(con_str)\n",
    "\n",
    "container_client = blob_service_client.get_container_client(\"mltraining\")\n"
   ]
  },
  {
   "cell_type": "code",
   "execution_count": 34,
   "metadata": {},
   "outputs": [
    {
     "ename": "TypeError",
     "evalue": "generate_account_sas() missing 1 required positional argument: 'expiry'",
     "output_type": "error",
     "traceback": [
      "\u001b[1;31m---------------------------------------------------------------------------\u001b[0m",
      "\u001b[1;31mTypeError\u001b[0m                                 Traceback (most recent call last)",
      "\u001b[1;32mc:\\Users\\janguy\\OneDrive - Microsoft\\Documents\\projects\\developments\\azure-openai-design-patterns\\patterns\\04-output-structure-enforcement\\output_control.ipynb Cell 7\u001b[0m in \u001b[0;36m<cell line: 3>\u001b[1;34m()\u001b[0m\n\u001b[0;32m      <a href='vscode-notebook-cell:/c%3A/Users/janguy/OneDrive%20-%20Microsoft/Documents/projects/developments/azure-openai-design-patterns/patterns/04-output-structure-enforcement/output_control.ipynb#X11sZmlsZQ%3D%3D?line=0'>1</a>\u001b[0m \u001b[39mfrom\u001b[39;00m \u001b[39mazure\u001b[39;00m\u001b[39m.\u001b[39;00m\u001b[39mstorage\u001b[39;00m\u001b[39m.\u001b[39;00m\u001b[39mblob\u001b[39;00m \u001b[39mimport\u001b[39;00m generate_container_sas, generate_account_sas\n\u001b[1;32m----> <a href='vscode-notebook-cell:/c%3A/Users/janguy/OneDrive%20-%20Microsoft/Documents/projects/developments/azure-openai-design-patterns/patterns/04-output-structure-enforcement/output_control.ipynb#X11sZmlsZQ%3D%3D?line=2'>3</a>\u001b[0m sas_token \u001b[39m=\u001b[39m generate_account_sas(\n\u001b[0;32m      <a href='vscode-notebook-cell:/c%3A/Users/janguy/OneDrive%20-%20Microsoft/Documents/projects/developments/azure-openai-design-patterns/patterns/04-output-structure-enforcement/output_control.ipynb#X11sZmlsZQ%3D%3D?line=3'>4</a>\u001b[0m     container_client\u001b[39m.\u001b[39;49maccount_name,\n\u001b[0;32m      <a href='vscode-notebook-cell:/c%3A/Users/janguy/OneDrive%20-%20Microsoft/Documents/projects/developments/azure-openai-design-patterns/patterns/04-output-structure-enforcement/output_control.ipynb#X11sZmlsZQ%3D%3D?line=4'>5</a>\u001b[0m     permission\u001b[39m=\u001b[39;49m \u001b[39m\"\u001b[39;49m\u001b[39mp\u001b[39;49m\u001b[39m\"\u001b[39;49m,\n\u001b[0;32m      <a href='vscode-notebook-cell:/c%3A/Users/janguy/OneDrive%20-%20Microsoft/Documents/projects/developments/azure-openai-design-patterns/patterns/04-output-structure-enforcement/output_control.ipynb#X11sZmlsZQ%3D%3D?line=5'>6</a>\u001b[0m     account_key\u001b[39m=\u001b[39;49mcontainer_client\u001b[39m.\u001b[39;49mcredential\u001b[39m.\u001b[39;49maccount_key,\n\u001b[0;32m      <a href='vscode-notebook-cell:/c%3A/Users/janguy/OneDrive%20-%20Microsoft/Documents/projects/developments/azure-openai-design-patterns/patterns/04-output-structure-enforcement/output_control.ipynb#X11sZmlsZQ%3D%3D?line=6'>7</a>\u001b[0m     resource_types\u001b[39m=\u001b[39;49m\u001b[39m\"\u001b[39;49m\u001b[39mp\u001b[39;49m\u001b[39m\"\u001b[39;49m\n\u001b[0;32m      <a href='vscode-notebook-cell:/c%3A/Users/janguy/OneDrive%20-%20Microsoft/Documents/projects/developments/azure-openai-design-patterns/patterns/04-output-structure-enforcement/output_control.ipynb#X11sZmlsZQ%3D%3D?line=7'>8</a>\u001b[0m )\n\u001b[0;32m      <a href='vscode-notebook-cell:/c%3A/Users/janguy/OneDrive%20-%20Microsoft/Documents/projects/developments/azure-openai-design-patterns/patterns/04-output-structure-enforcement/output_control.ipynb#X11sZmlsZQ%3D%3D?line=8'>9</a>\u001b[0m sas_token\n",
      "\u001b[1;31mTypeError\u001b[0m: generate_account_sas() missing 1 required positional argument: 'expiry'"
     ]
    }
   ],
   "source": [
    "from azure.storage.blob import generate_container_sas, generate_account_sas\n",
    "\n",
    "sas_token = generate_account_sas(\n",
    "    container_client.account_name,\n",
    "    permission= \"p\",\n",
    "    account_key=container_client.credential.account_key,\n",
    "    resource_types=\"p\",\n",
    "    expiry\n",
    ")\n",
    "sas_token"
   ]
  },
  {
   "cell_type": "code",
   "execution_count": 17,
   "metadata": {},
   "outputs": [],
   "source": [
    "import os, uuid, sys\n",
    "from azure.storage.filedatalake import DataLakeServiceClient\n",
    "from azure.core._match_conditions import MatchConditions\n",
    "from azure.storage.filedatalake._models import ContentSettings\n",
    "from azure.identity import DefaultAzureCredential"
   ]
  },
  {
   "cell_type": "code",
   "execution_count": 23,
   "metadata": {},
   "outputs": [
    {
     "ename": "ClientAuthenticationError",
     "evalue": "Operation returned an invalid status 'Server failed to authenticate the request. Please refer to the information in the www-authenticate header.'\nErrorCode:NoAuthenticationInformation",
     "output_type": "error",
     "traceback": [
      "\u001b[1;31m---------------------------------------------------------------------------\u001b[0m",
      "\u001b[1;31mClientAuthenticationError\u001b[0m                 Traceback (most recent call last)",
      "\u001b[1;32mc:\\Users\\janguy\\OneDrive - Microsoft\\Documents\\projects\\developments\\azure-openai-design-patterns\\patterns\\04-output-structure-enforcement\\output_control.ipynb Cell 9\u001b[0m in \u001b[0;36m<cell line: 7>\u001b[1;34m()\u001b[0m\n\u001b[0;32m      <a href='vscode-notebook-cell:/c%3A/Users/janguy/OneDrive%20-%20Microsoft/Documents/projects/developments/azure-openai-design-patterns/patterns/04-output-structure-enforcement/output_control.ipynb#X12sZmlsZQ%3D%3D?line=2'>3</a>\u001b[0m file_system_client \u001b[39m=\u001b[39m service_client\u001b[39m.\u001b[39mget_file_system_client(file_system\u001b[39m=\u001b[39m\u001b[39m\"\u001b[39m\u001b[39mmltraining\u001b[39m\u001b[39m\"\u001b[39m)\n\u001b[0;32m      <a href='vscode-notebook-cell:/c%3A/Users/janguy/OneDrive%20-%20Microsoft/Documents/projects/developments/azure-openai-design-patterns/patterns/04-output-structure-enforcement/output_control.ipynb#X12sZmlsZQ%3D%3D?line=4'>5</a>\u001b[0m directory_client \u001b[39m=\u001b[39m file_system_client\u001b[39m.\u001b[39mget_directory_client(\u001b[39m\"\u001b[39m\u001b[39mdev\u001b[39m\u001b[39m\"\u001b[39m)\n\u001b[1;32m----> <a href='vscode-notebook-cell:/c%3A/Users/janguy/OneDrive%20-%20Microsoft/Documents/projects/developments/azure-openai-design-patterns/patterns/04-output-structure-enforcement/output_control.ipynb#X12sZmlsZQ%3D%3D?line=6'>7</a>\u001b[0m acl_props \u001b[39m=\u001b[39m directory_client\u001b[39m.\u001b[39;49mget_access_control()\n\u001b[0;32m     <a href='vscode-notebook-cell:/c%3A/Users/janguy/OneDrive%20-%20Microsoft/Documents/projects/developments/azure-openai-design-patterns/patterns/04-output-structure-enforcement/output_control.ipynb#X12sZmlsZQ%3D%3D?line=10'>11</a>\u001b[0m \u001b[39mprint\u001b[39m(acl_props[\u001b[39m'\u001b[39m\u001b[39mpermissions\u001b[39m\u001b[39m'\u001b[39m])\n\u001b[0;32m     <a href='vscode-notebook-cell:/c%3A/Users/janguy/OneDrive%20-%20Microsoft/Documents/projects/developments/azure-openai-design-patterns/patterns/04-output-structure-enforcement/output_control.ipynb#X12sZmlsZQ%3D%3D?line=12'>13</a>\u001b[0m new_dir_permissions \u001b[39m=\u001b[39m \u001b[39m\"\u001b[39m\u001b[39mrwxr-xrw-\u001b[39m\u001b[39m\"\u001b[39m\n",
      "File \u001b[1;32mc:\\Users\\janguy\\Anaconda3\\envs\\forecasting\\lib\\site-packages\\azure\\storage\\filedatalake\\_path_client.py:498\u001b[0m, in \u001b[0;36mPathClient.get_access_control\u001b[1;34m(self, upn, **kwargs)\u001b[0m\n\u001b[0;32m    496\u001b[0m     \u001b[39mreturn\u001b[39;00m \u001b[39mself\u001b[39m\u001b[39m.\u001b[39m_client\u001b[39m.\u001b[39mpath\u001b[39m.\u001b[39mget_properties(\u001b[39m*\u001b[39m\u001b[39m*\u001b[39moptions)\n\u001b[0;32m    497\u001b[0m \u001b[39mexcept\u001b[39;00m HttpResponseError \u001b[39mas\u001b[39;00m error:\n\u001b[1;32m--> 498\u001b[0m     process_storage_error(error)\n",
      "File \u001b[1;32mc:\\Users\\janguy\\Anaconda3\\envs\\forecasting\\lib\\site-packages\\azure\\storage\\filedatalake\\_deserialize.py:208\u001b[0m, in \u001b[0;36mprocess_storage_error\u001b[1;34m(storage_error)\u001b[0m\n\u001b[0;32m    204\u001b[0m error\u001b[39m.\u001b[39margs \u001b[39m=\u001b[39m (error\u001b[39m.\u001b[39mmessage,)\n\u001b[0;32m    206\u001b[0m \u001b[39mtry\u001b[39;00m:\n\u001b[0;32m    207\u001b[0m     \u001b[39m# `from None` prevents us from double printing the exception (suppresses generated layer error context)\u001b[39;00m\n\u001b[1;32m--> 208\u001b[0m     exec(\u001b[39m\"\u001b[39;49m\u001b[39mraise error from None\u001b[39;49m\u001b[39m\"\u001b[39;49m)   \u001b[39m# pylint: disable=exec-used # nosec\u001b[39;00m\n\u001b[0;32m    209\u001b[0m \u001b[39mexcept\u001b[39;00m \u001b[39mSyntaxError\u001b[39;00m:\n\u001b[0;32m    210\u001b[0m     \u001b[39mraise\u001b[39;00m error\n",
      "File \u001b[1;32m<string>:1\u001b[0m, in \u001b[0;36m<module>\u001b[1;34m\u001b[0m\n",
      "File \u001b[1;32mc:\\Users\\janguy\\Anaconda3\\envs\\forecasting\\lib\\site-packages\\azure\\storage\\filedatalake\\_path_client.py:496\u001b[0m, in \u001b[0;36mPathClient.get_access_control\u001b[1;34m(self, upn, **kwargs)\u001b[0m\n\u001b[0;32m    494\u001b[0m options \u001b[39m=\u001b[39m \u001b[39mself\u001b[39m\u001b[39m.\u001b[39m_get_access_control_options(upn\u001b[39m=\u001b[39mupn, \u001b[39m*\u001b[39m\u001b[39m*\u001b[39mkwargs)\n\u001b[0;32m    495\u001b[0m \u001b[39mtry\u001b[39;00m:\n\u001b[1;32m--> 496\u001b[0m     \u001b[39mreturn\u001b[39;00m \u001b[39mself\u001b[39m\u001b[39m.\u001b[39m_client\u001b[39m.\u001b[39mpath\u001b[39m.\u001b[39mget_properties(\u001b[39m*\u001b[39m\u001b[39m*\u001b[39moptions)\n\u001b[0;32m    497\u001b[0m \u001b[39mexcept\u001b[39;00m HttpResponseError \u001b[39mas\u001b[39;00m error:\n\u001b[0;32m    498\u001b[0m     process_storage_error(error)\n",
      "File \u001b[1;32mc:\\Users\\janguy\\Anaconda3\\envs\\forecasting\\lib\\site-packages\\azure\\core\\tracing\\decorator.py:78\u001b[0m, in \u001b[0;36mdistributed_trace.<locals>.decorator.<locals>.wrapper_use_tracer\u001b[1;34m(*args, **kwargs)\u001b[0m\n\u001b[0;32m     76\u001b[0m span_impl_type \u001b[39m=\u001b[39m settings\u001b[39m.\u001b[39mtracing_implementation()\n\u001b[0;32m     77\u001b[0m \u001b[39mif\u001b[39;00m span_impl_type \u001b[39mis\u001b[39;00m \u001b[39mNone\u001b[39;00m:\n\u001b[1;32m---> 78\u001b[0m     \u001b[39mreturn\u001b[39;00m func(\u001b[39m*\u001b[39margs, \u001b[39m*\u001b[39m\u001b[39m*\u001b[39mkwargs)\n\u001b[0;32m     80\u001b[0m \u001b[39m# Merge span is parameter is set, but only if no explicit parent are passed\u001b[39;00m\n\u001b[0;32m     81\u001b[0m \u001b[39mif\u001b[39;00m merge_span \u001b[39mand\u001b[39;00m \u001b[39mnot\u001b[39;00m passed_in_parent:\n",
      "File \u001b[1;32mc:\\Users\\janguy\\Anaconda3\\envs\\forecasting\\lib\\site-packages\\azure\\storage\\filedatalake\\_generated\\operations\\_path_operations.py:1883\u001b[0m, in \u001b[0;36mPathOperations.get_properties\u001b[1;34m(self, request_id_parameter, timeout, action, upn, lease_access_conditions, modified_access_conditions, **kwargs)\u001b[0m\n\u001b[0;32m   1880\u001b[0m response \u001b[39m=\u001b[39m pipeline_response\u001b[39m.\u001b[39mhttp_response\n\u001b[0;32m   1882\u001b[0m \u001b[39mif\u001b[39;00m response\u001b[39m.\u001b[39mstatus_code \u001b[39mnot\u001b[39;00m \u001b[39min\u001b[39;00m [\u001b[39m200\u001b[39m]:\n\u001b[1;32m-> 1883\u001b[0m     map_error(status_code\u001b[39m=\u001b[39;49mresponse\u001b[39m.\u001b[39;49mstatus_code, response\u001b[39m=\u001b[39;49mresponse, error_map\u001b[39m=\u001b[39;49merror_map)\n\u001b[0;32m   1884\u001b[0m     error \u001b[39m=\u001b[39m \u001b[39mself\u001b[39m\u001b[39m.\u001b[39m_deserialize\u001b[39m.\u001b[39mfailsafe_deserialize(_models\u001b[39m.\u001b[39mStorageError, pipeline_response)\n\u001b[0;32m   1885\u001b[0m     \u001b[39mraise\u001b[39;00m HttpResponseError(response\u001b[39m=\u001b[39mresponse, model\u001b[39m=\u001b[39merror)\n",
      "File \u001b[1;32mc:\\Users\\janguy\\Anaconda3\\envs\\forecasting\\lib\\site-packages\\azure\\core\\exceptions.py:109\u001b[0m, in \u001b[0;36mmap_error\u001b[1;34m(status_code, response, error_map)\u001b[0m\n\u001b[0;32m    107\u001b[0m     \u001b[39mreturn\u001b[39;00m\n\u001b[0;32m    108\u001b[0m error \u001b[39m=\u001b[39m error_type(response\u001b[39m=\u001b[39mresponse)\n\u001b[1;32m--> 109\u001b[0m \u001b[39mraise\u001b[39;00m error\n",
      "\u001b[1;31mClientAuthenticationError\u001b[0m: Operation returned an invalid status 'Server failed to authenticate the request. Please refer to the information in the www-authenticate header.'\nErrorCode:NoAuthenticationInformation"
     ]
    }
   ],
   "source": [
    "service_client  = DataLakeServiceClient(sas_token=sas_token,account_url=\"{}://{}.dfs.core.windows.net\".format(\n",
    "            \"https\", \"adlsstore0001\"))\n",
    "file_system_client = service_client.get_file_system_client(file_system=\"mltraining\")\n",
    "\n",
    "directory_client = file_system_client.get_directory_client(\"dev\")\n",
    "\n",
    "acl_props = directory_client.get_access_control()\n",
    "\n",
    "\n",
    "\n",
    "print(acl_props['permissions'])\n",
    "\n",
    "new_dir_permissions = \"rwxr-xrw-\"\n",
    "\n",
    "directory_client.set_access_control(permissions=new_dir_permissions)\n",
    "\n",
    "acl_props = directory_client.get_access_control()\n",
    "\n",
    "print(acl_props['permissions'])\n",
    "    \n"
   ]
  },
  {
   "cell_type": "code",
   "execution_count": 32,
   "metadata": {},
   "outputs": [
    {
     "ename": "ClientAuthenticationError",
     "evalue": "Operation returned an invalid status 'Server failed to authenticate the request. Make sure the value of Authorization header is formed correctly including the signature.'\nErrorCode:AuthenticationFailed",
     "output_type": "error",
     "traceback": [
      "\u001b[1;31m---------------------------------------------------------------------------\u001b[0m",
      "\u001b[1;31mClientAuthenticationError\u001b[0m                 Traceback (most recent call last)",
      "\u001b[1;32mc:\\Users\\janguy\\OneDrive - Microsoft\\Documents\\projects\\developments\\azure-openai-design-patterns\\patterns\\04-output-structure-enforcement\\output_control.ipynb Cell 10\u001b[0m in \u001b[0;36m<cell line: 7>\u001b[1;34m()\u001b[0m\n\u001b[0;32m      <a href='vscode-notebook-cell:/c%3A/Users/janguy/OneDrive%20-%20Microsoft/Documents/projects/developments/azure-openai-design-patterns/patterns/04-output-structure-enforcement/output_control.ipynb#X15sZmlsZQ%3D%3D?line=2'>3</a>\u001b[0m file_system_client \u001b[39m=\u001b[39m service_client\u001b[39m.\u001b[39mget_file_system_client(file_system\u001b[39m=\u001b[39m\u001b[39m\"\u001b[39m\u001b[39mmltraining\u001b[39m\u001b[39m\"\u001b[39m)\n\u001b[0;32m      <a href='vscode-notebook-cell:/c%3A/Users/janguy/OneDrive%20-%20Microsoft/Documents/projects/developments/azure-openai-design-patterns/patterns/04-output-structure-enforcement/output_control.ipynb#X15sZmlsZQ%3D%3D?line=4'>5</a>\u001b[0m directory_client \u001b[39m=\u001b[39m file_system_client\u001b[39m.\u001b[39mget_directory_client(\u001b[39m\"\u001b[39m\u001b[39mdev\u001b[39m\u001b[39m\"\u001b[39m)\n\u001b[1;32m----> <a href='vscode-notebook-cell:/c%3A/Users/janguy/OneDrive%20-%20Microsoft/Documents/projects/developments/azure-openai-design-patterns/patterns/04-output-structure-enforcement/output_control.ipynb#X15sZmlsZQ%3D%3D?line=6'>7</a>\u001b[0m acl_props \u001b[39m=\u001b[39m directory_client\u001b[39m.\u001b[39;49mget_access_control()\n\u001b[0;32m     <a href='vscode-notebook-cell:/c%3A/Users/janguy/OneDrive%20-%20Microsoft/Documents/projects/developments/azure-openai-design-patterns/patterns/04-output-structure-enforcement/output_control.ipynb#X15sZmlsZQ%3D%3D?line=10'>11</a>\u001b[0m \u001b[39mprint\u001b[39m(acl_props[\u001b[39m'\u001b[39m\u001b[39mpermissions\u001b[39m\u001b[39m'\u001b[39m])\n\u001b[0;32m     <a href='vscode-notebook-cell:/c%3A/Users/janguy/OneDrive%20-%20Microsoft/Documents/projects/developments/azure-openai-design-patterns/patterns/04-output-structure-enforcement/output_control.ipynb#X15sZmlsZQ%3D%3D?line=12'>13</a>\u001b[0m new_dir_permissions \u001b[39m=\u001b[39m \u001b[39m\"\u001b[39m\u001b[39mrwxr-xrw-\u001b[39m\u001b[39m\"\u001b[39m\n",
      "File \u001b[1;32mc:\\Users\\janguy\\Anaconda3\\envs\\forecasting\\lib\\site-packages\\azure\\storage\\filedatalake\\_path_client.py:498\u001b[0m, in \u001b[0;36mPathClient.get_access_control\u001b[1;34m(self, upn, **kwargs)\u001b[0m\n\u001b[0;32m    496\u001b[0m     \u001b[39mreturn\u001b[39;00m \u001b[39mself\u001b[39m\u001b[39m.\u001b[39m_client\u001b[39m.\u001b[39mpath\u001b[39m.\u001b[39mget_properties(\u001b[39m*\u001b[39m\u001b[39m*\u001b[39moptions)\n\u001b[0;32m    497\u001b[0m \u001b[39mexcept\u001b[39;00m HttpResponseError \u001b[39mas\u001b[39;00m error:\n\u001b[1;32m--> 498\u001b[0m     process_storage_error(error)\n",
      "File \u001b[1;32mc:\\Users\\janguy\\Anaconda3\\envs\\forecasting\\lib\\site-packages\\azure\\storage\\filedatalake\\_deserialize.py:208\u001b[0m, in \u001b[0;36mprocess_storage_error\u001b[1;34m(storage_error)\u001b[0m\n\u001b[0;32m    204\u001b[0m error\u001b[39m.\u001b[39margs \u001b[39m=\u001b[39m (error\u001b[39m.\u001b[39mmessage,)\n\u001b[0;32m    206\u001b[0m \u001b[39mtry\u001b[39;00m:\n\u001b[0;32m    207\u001b[0m     \u001b[39m# `from None` prevents us from double printing the exception (suppresses generated layer error context)\u001b[39;00m\n\u001b[1;32m--> 208\u001b[0m     exec(\u001b[39m\"\u001b[39;49m\u001b[39mraise error from None\u001b[39;49m\u001b[39m\"\u001b[39;49m)   \u001b[39m# pylint: disable=exec-used # nosec\u001b[39;00m\n\u001b[0;32m    209\u001b[0m \u001b[39mexcept\u001b[39;00m \u001b[39mSyntaxError\u001b[39;00m:\n\u001b[0;32m    210\u001b[0m     \u001b[39mraise\u001b[39;00m error\n",
      "File \u001b[1;32m<string>:1\u001b[0m, in \u001b[0;36m<module>\u001b[1;34m\u001b[0m\n",
      "\u001b[1;31mClientAuthenticationError\u001b[0m: Operation returned an invalid status 'Server failed to authenticate the request. Make sure the value of Authorization header is formed correctly including the signature.'\nErrorCode:AuthenticationFailed"
     ]
    }
   ],
   "source": [
    "con_str2 =f\"BlobEndpoint=https://adlsstore0001.blob.core.windows.net/;SharedAccessSignature=dsdf\"\n",
    "service_client=DataLakeServiceClient.from_connection_string(con_str2)\n",
    "file_system_client = service_client.get_file_system_client(file_system=\"mltraining\")\n",
    "\n",
    "directory_client = file_system_client.get_directory_client(\"dev\")\n",
    "\n",
    "acl_props = directory_client.get_access_control()\n",
    "\n",
    "\n",
    "\n",
    "print(acl_props['permissions'])\n",
    "\n",
    "new_dir_permissions = \"rwxr-xrw-\"\n",
    "\n",
    "directory_client.set_access_control(permissions=new_dir_permissions)\n",
    "\n",
    "acl_props = directory_client.get_access_control()\n",
    "\n",
    "print(acl_props['permissions'])\n",
    "    \n"
   ]
  },
  {
   "cell_type": "code",
   "execution_count": null,
   "metadata": {},
   "outputs": [],
   "source": []
  }
 ],
 "metadata": {
  "kernelspec": {
   "display_name": "forecasting",
   "language": "python",
   "name": "python3"
  },
  "language_info": {
   "codemirror_mode": {
    "name": "ipython",
    "version": 3
   },
   "file_extension": ".py",
   "mimetype": "text/x-python",
   "name": "python",
   "nbconvert_exporter": "python",
   "pygments_lexer": "ipython3",
   "version": "3.9.12"
  },
  "orig_nbformat": 4
 },
 "nbformat": 4,
 "nbformat_minor": 2
}
